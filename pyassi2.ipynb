{
  "nbformat": 4,
  "nbformat_minor": 0,
  "metadata": {
    "colab": {
      "provenance": []
    },
    "kernelspec": {
      "name": "python3",
      "display_name": "Python 3"
    },
    "language_info": {
      "name": "python"
    }
  },
  "cells": [
    {
      "cell_type": "code",
      "execution_count": 5,
      "metadata": {
        "colab": {
          "base_uri": "https://localhost:8080/"
        },
        "id": "53cn9iuASGdL",
        "outputId": "2701c87e-729b-45ef-a05d-52d27ea3371b"
      },
      "outputs": [
        {
          "output_type": "stream",
          "name": "stdout",
          "text": [
            "enter any number7\n",
            "entered number is a prime number\n"
          ]
        }
      ],
      "source": [
        "number=int(input(\"enter any number\"))\n",
        "if number > 1:\n",
        "    for i in range(2, int(number/2)+1):\n",
        "        if (number % i) == 0:\n",
        "            print(\"entered number is not a prime number\")\n",
        "            break\n",
        "    else:\n",
        "        print(\"entered number is a prime number\")\n",
        "else:\n",
        "    print(\"entered number is not a prime number\")"
      ]
    }
  ]
}