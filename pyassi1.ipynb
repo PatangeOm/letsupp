{
  "nbformat": 4,
  "nbformat_minor": 0,
  "metadata": {
    "colab": {
      "provenance": []
    },
    "kernelspec": {
      "name": "python3",
      "display_name": "Python 3"
    },
    "language_info": {
      "name": "python"
    }
  },
  "cells": [
    {
      "cell_type": "code",
      "execution_count": 1,
      "metadata": {
        "colab": {
          "base_uri": "https://localhost:8080/"
        },
        "id": "0jb0eP00NFNI",
        "outputId": "565e548a-8476-4960-a7c9-c9dcdf1b5996"
      },
      "outputs": [
        {
          "output_type": "stream",
          "name": "stdout",
          "text": [
            "Enter any number 90\n",
            "90 is Even\n"
          ]
        }
      ],
      "source": [
        "num = int(input(\"Enter any number \"))\n",
        "if (num % 2) == 0:\n",
        "   print(\"entered is even\")\n",
        "else:\n",
        "   print(\"entered is odd\")"
      ]
    }
  ]
}